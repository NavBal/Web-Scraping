{
 "cells": [
  {
   "cell_type": "markdown",
   "metadata": {},
   "source": [
    "# Web Scraping\n"
   ]
  },
  {
   "cell_type": "markdown",
   "metadata": {},
   "source": [
    "# Web Scraping\n",
    "\n",
    "# HTML quick overview\n",
    "<!DOCTYPE html>  \n",
    "<html>  \n",
    "    <head>\n",
    "    </head>\n",
    "    <body>\n",
    "        <h1> First Scraping </h1>\n",
    "        <p> Hello World </p>\n",
    "    <body>\n",
    "</html>\n"
   ]
  },
  {
   "cell_type": "markdown",
   "metadata": {},
   "source": [
    "# Scraping Rules\n",
    "\n",
    "You should check a website’s Terms and Conditions before you scrape it. Be careful to read the statements about legal use of data. Usually, the data you scrape should not be used for commercial purposes.\n",
    "\n",
    "Do not request data from the website too aggressively with your program (also known as spamming), as this may break the website. Make sure your program behaves in a reasonable manner (i.e. acts like a human). One request for one webpage per second is good practice.\n",
    "\n",
    "The layout of a website may change from time to time, so make sure to revisit the site and rewrite your code as needed"
   ]
  },
  {
   "cell_type": "code",
   "execution_count": 1,
   "metadata": {},
   "outputs": [],
   "source": [
    "# import libraries\n",
    "import urllib.request\n",
    "from bs4 import BeautifulSoup\n",
    "\n",
    "# <p class=\"pdp-estimate__price\">£475,000</p>\n",
    "# \n",
    "# specify the url\n",
    "#https://www.zoopla.co.uk/property/apartment-1001/phoenix-heights-west/142-byng-street/london/e14-9ae/29147713\n",
    "html_page = \"https://www.zoopla.co.uk/property/apartment-1001/phoenix-heights-west/142-byng-street/london/e14-9ae/29147713\"\n",
    "        \n",
    "# query the website and return the html to the variable ‘page’\n",
    "page = urllib.request.urlopen(html_page)\n",
    "\n",
    "# parse the html using beautiful soup and store in variable `soup`\n",
    "soup = BeautifulSoup(page, \"html.parser\") # can do more pages if needed as soup1 and soup2"
   ]
  },
  {
   "cell_type": "markdown",
   "metadata": {},
   "source": [
    "go to the html / tools / developper then right click on object or text you want, select inspect and the object in the html will highlight.  Righ click on the html highlight then copy/copy element and past it below \n",
    "paste here\n",
    "<span class=\"colour-box\" data-mv-variant=\"a\">Does May's defence of me signal the end of toxic Tory politics? I won't hold my breath</span>"
   ]
  },
  {
   "cell_type": "code",
   "execution_count": 6,
   "metadata": {},
   "outputs": [
    {
     "name": "stdout",
     "output_type": "stream",
     "text": [
      "[<p class=\"pdp-estimate__price\">£475,000</p>, <p class=\"pdp-estimate__price\">£1,650 pcm</p>]\n",
      "£475,000\n"
     ]
    }
   ],
   "source": [
    "# Take out the <div> of name and get its value\n",
    "#soup.find for the 1st occurence\n",
    "#soup.findall for all of them\n",
    "# <p class=\"pdp-estimate__price\">£475,000</p>\n",
    "'''\n",
    "<p class=\"js-public-info\">\n",
    "<examples of boxes types\n",
    "<span class=\n",
    "<a\n",
    "<div class=\n",
    "<section class=\n",
    "<h2 class=\n",
    "<h2 class=\n",
    "<h1 class=\n",
    "<main id=\n",
    "\n",
    "''' \n",
    "title_box = soup.findAll(\"p\", class_= \"pdp-estimate__price\")\n",
    "print(title_box)\n",
    "title=[]\n",
    "for occurence in title_box:\n",
    "    title.append(occurence.text.strip()) # strip() is used to remove starting and trailing\n",
    "\n",
    "print(title[0]) \n"
   ]
  },
  {
   "cell_type": "code",
   "execution_count": 10,
   "metadata": {},
   "outputs": [
    {
     "name": "stdout",
     "output_type": "stream",
     "text": [
      "[<p class=\"js-public-info\">This 2 bed leasehold flat is located at Phoenix Heights West, 142 Byng Street, London E14 9AE and has an estimated current value of £475,000. <a href=\"https://www.zoopla.co.uk/house-prices/london/byng-street/\">Byng Street</a> has 274 houses and flats on it with an average current value of £356,722, compared to an average property value of £534,236 for <a href=\"https://www.zoopla.co.uk/house-prices/london/e14/poplar-isle-of-dogs-millwall/\">E14</a>. There have been 12 <a href=\"https://www.zoopla.co.uk/house-prices/london/byng-street/\">property sales on Byng Street, E14</a> over the last 5 years with an average house price paid of £283,812. There are currently 2,318 <a href=\"https://www.zoopla.co.uk/for-sale/property/london/e14/poplar-isle-of-dogs-millwall/\">houses and flats for sale in E14</a> with an average asking price of £628,423 and 1,788 <a href=\"https://www.zoopla.co.uk/to-rent/property/london/e14/poplar-isle-of-dogs-millwall/\">homes to rent in E14</a> with an average asking rent of £542 pw.</p>]\n",
      "This 2 bed leasehold flat is located at Phoenix Heights West, 142 Byng Street, London E14 9AE and has an estimated current value of £475,000. Byng Street has 274 houses and flats on it with an average current value of £356,722, compared to an average property value of £534,236 for E14. There have been 12 property sales on Byng Street, E14 over the last 5 years with an average house price paid of £283,812. There are currently 2,318 houses and flats for sale in E14 with an average asking price of £628,423 and 1,788 homes to rent in E14 with an average asking rent of £542 pw.\n"
     ]
    }
   ],
   "source": [
    "'''\n",
    "<p class=\"js-public-info\">\n",
    "<examples of boxes types\n",
    "<span class \"blablabla\"> =      -> \"span\", class_=\"blablabla\"\n",
    "<a\n",
    "<div class=\n",
    "<section class=\n",
    "<h2 class=\n",
    "<h2 class=\n",
    "<h1 class=\n",
    "<main id=\n",
    "\n",
    "'''\n",
    "desc_box = soup.findAll(\"p\", class_= \"js-public-info\")\n",
    "print(desc_box)\n",
    "desc=[]\n",
    "for occurence in desc_box:\n",
    "    desc.append(occurence.text.strip()) # strip() is used to remove starting and trailing\n",
    "\n",
    "print(title[0]) \n",
    "if\"1 bed\" in desc[0]: print(\"its a one-bedroom\")"
   ]
  },
  {
   "cell_type": "code",
   "execution_count": null,
   "metadata": {},
   "outputs": [],
   "source": [
    "# Take out the <div> of name and get its value\n",
    "# soup.find for the 1st occurence\n",
    "# soup.findall for all of them\n",
    "'''\n",
    "<p class=\"js-public-info\">\n",
    "<examples of boxes types\n",
    "<span class \"blablabla\"> =      -> \"span\", class_=\"blablabla\"\n",
    "<a\n",
    "<div class=\n",
    "<section class=\n",
    "<h2 class=\n",
    "<h2 class=\n",
    "<h1 class=\n",
    "<main id=\n",
    "\n",
    "''' \n",
    "\n",
    "link_box = soup.findAll(\"a\")\n",
    "#print(title_box)\n",
    "link=[]\n",
    "for occurence in link_box:\n",
    "    link.append(occurence.get('href')) # strip() is used to remove starting and trailing\n",
    "\n",
    "print(link)     "
   ]
  }
 ],
 "metadata": {
  "kernelspec": {
   "display_name": "Python 3",
   "language": "python",
   "name": "python3"
  },
  "language_info": {
   "codemirror_mode": {
    "name": "ipython",
    "version": 3
   },
   "file_extension": ".py",
   "mimetype": "text/x-python",
   "name": "python",
   "nbconvert_exporter": "python",
   "pygments_lexer": "ipython3",
   "version": "3.7.0"
  }
 },
 "nbformat": 4,
 "nbformat_minor": 2
}
